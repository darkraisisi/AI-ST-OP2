{
 "cells": [
  {
   "cell_type": "markdown",
   "metadata": {},
   "source": [
    "# Simulatie Analyse\n",
    "\n",
    "Er zal een statistische analyse worden op verschillende data die we hadden gekregen van meerdere batchruns met verschillende parameters. Aan de hand van deze data kunnen we onze onderzoeksvraag beantwoorden."
   ]
  },
  {
   "cell_type": "code",
   "execution_count": null,
   "metadata": {},
   "outputs": [],
   "source": [
    "# Libraries importeren \n",
    "from Classes.Person import Person\n",
    "import pickle\n",
    "import numpy as np\n",
    "import math\n",
    "import pandas as pd\n",
    "import seaborn as sns\n",
    "import matplotlib.pyplot as plt"
   ]
  },
  {
   "cell_type": "markdown",
   "metadata": {},
   "source": [
    "### Dataframe importeren \n",
    "We gaan twee dataframes bekijken van onze simulatie met de volgende params:\n",
    "* VoterModel\n",
    "* 1000 voters\n",
    "* 4 kandidaten \n",
    "* voter_type : Voter Type (Agent gedrag): [Strategisch, Honest]\n",
    "* maxpolls: 6\n",
    "* loyalty : 30\n",
    "* strat_chance: 30 \n",
    "* width:2\n",
    "* height:2\n",
    "* 1000 iterations/runs\n",
    "* 10 steps \n",
    "\n",
    "Er is gekozen vor een loyalty en een strat_chance van 30%, want wij denken dat dit een realistische beeld  even van zo'n verkiezing."
   ]
  },
  {
   "cell_type": "code",
   "execution_count": null,
   "metadata": {},
   "outputs": [],
   "source": [
    "honest = pickle.load(open(\"generated_files/batch_run_honest_1\",\"rb\"))\n",
    "strategic = pickle.load(open(\"generated_files/batch_run_strategic_1\",\"rb\"))"
   ]
  },
  {
   "cell_type": "code",
   "execution_count": null,
   "metadata": {},
   "outputs": [],
   "source": [
    "honest"
   ]
  },
  {
   "cell_type": "code",
   "execution_count": null,
   "metadata": {},
   "outputs": [],
   "source": [
    "def getFluctuations(pollList):\n",
    "    \"\"\"\n",
    "    Berekent de gemiddelde verandering van de votes van een kandidaat per poll.\n",
    "    params:\n",
    "    pollList: lijst met de resultaten van elke peiling in een run.\n",
    "    \"\"\"\n",
    "    fluctuation = {}\n",
    "    length = len(pollList)\n",
    "    for cand in pollList[0]:\n",
    "        fluctuation.update({cand: 0})\n",
    "                    \n",
    "    for cand in fluctuation:\n",
    "        differences = []\n",
    "        for pollId in range(length-1):\n",
    "            differences.append(pollList[pollId + 1].get(cand) - pollList[pollId].get(cand))\n",
    "        fluctuation.update({cand:(sum(differences) / length)})\n",
    "\n",
    "    return fluctuation"
   ]
  },
  {
   "cell_type": "code",
   "execution_count": null,
   "metadata": {},
   "outputs": [],
   "source": [
    "def convertRuns(_data):\n",
    "    \"\"\"\n",
    "    In deze functie gaat de data verwerkt worden waardoor het overzichtlijk is en beter leesbaare en te gebruiken.\n",
    "    \"\"\"\n",
    "    runs = pd.DataFrame(columns=['run_id', 'cand_unique_id', 'cand_votes', 'cand_position', 'strat_perc'])\n",
    "    for i, run in _data.iterrows():\n",
    "        cand_fluctuations = getFluctuations(run.Polls) # bepaal de gemiddelde aantal votes per poll per kandidaat\n",
    "        for cand in run.Polls[len(run.Polls)-1]:\n",
    "            runs = runs.append({'run_id':i,'cand_unique_id':cand.unique_id,'cand_votes':run[1][0].get(cand),'cand_position':cand.position,'strat_perc': run[2],'fluctuation':cand_fluctuations.get(cand)},ignore_index=True)\n",
    "    runs['cand_votes'] = runs['cand_votes'].convert_dtypes(int)\n",
    "    return runs"
   ]
  },
  {
   "cell_type": "code",
   "execution_count": null,
   "metadata": {},
   "outputs": [],
   "source": [
    "honest_runs = convertRuns(honest)"
   ]
  },
  {
   "cell_type": "code",
   "execution_count": null,
   "metadata": {},
   "outputs": [],
   "source": [
    "strategic_runs = convertRuns(strategic)"
   ]
  },
  {
   "cell_type": "code",
   "execution_count": null,
   "metadata": {},
   "outputs": [],
   "source": [
    "honest, strategic = None, None"
   ]
  },
  {
   "cell_type": "code",
   "execution_count": null,
   "metadata": {},
   "outputs": [],
   "source": [
    "def addDistance(df:pd.DataFrame):\n",
    "    \"\"\"\n",
    "    Afstand wordt berekent van de kandidaat ene de midden van de space.\n",
    "    Dit zal gelijk zijn aan de coordinaten (1.0, 1.0)\n",
    "    \"\"\"\n",
    "    df['distance'] = df['cand_position'].apply(lambda x: np.linalg.norm([1.0,1.0] - x))\n",
    "    return df"
   ]
  },
  {
   "cell_type": "code",
   "execution_count": null,
   "metadata": {},
   "outputs": [],
   "source": [
    "honest_runs = addDistance(honest_runs)\n",
    "display(honest_runs.sort_values(by=['distance']))\n",
    "#print de honest_Runs die gesorteerd zijn op de hoogste naar de laagste cand_votes\n",
    "display(honest_runs.sort_values(by=['cand_votes'],ascending=False))\n",
    "\n",
    "strategic_runs = addDistance(strategic_runs)\n",
    "display(strategic_runs.sort_values(by=['distance']))\n",
    "##print de honest_Runs die gesorteerd zijn op de hoogste naar de laagste cand_votes\n",
    "display(strategic_runs.sort_values(by=['cand_votes'],ascending=False))"
   ]
  },
  {
   "cell_type": "markdown",
   "metadata": {},
   "source": [
    "Aan de hand van pairplots gaan we de realities zien tussen de cand_votes en distance bij honest_runs. Bovendien gaan we de relatie zien van *'cand_votes','distance','strat_perc','fluctuation'* bij strategic_runs"
   ]
  },
  {
   "cell_type": "code",
   "execution_count": null,
   "metadata": {},
   "outputs": [],
   "source": [
    "display(sns.pairplot(honest_runs[['cand_votes','distance']]))"
   ]
  },
  {
   "cell_type": "code",
   "execution_count": null,
   "metadata": {},
   "outputs": [],
   "source": [
    "display(sns.pairplot(strategic_runs[['cand_votes','distance','strat_perc','fluctuation']]))"
   ]
  },
  {
   "cell_type": "code",
   "execution_count": null,
   "metadata": {},
   "outputs": [],
   "source": [
    "# display(honest_runs[['cand_votes']].describe(include='all'))\n",
    "# display(honest_runs[['cand_votes']].plot.box())\n",
    "# display(strategic_runs[['cand_votes']].describe(include='all'))\n",
    "# display(strategic_runs[['cand_votes']].plot.box())"
   ]
  },
  {
   "cell_type": "markdown",
   "metadata": {},
   "source": [
    "# Effect van plurality voting op mensen dat niet op hun eerste voorkeur kiest."
   ]
  },
  {
   "cell_type": "markdown",
   "metadata": {},
   "source": [
    "Hier laten we een scatter plot zien met de gemiddelde fluctuatie in stemmen per pijlingsronden.\n",
    "Wat hier uit te zien is is dat de kans dat je stemmen toe krijgt van strategische stemmers later in het stem proces steeds kleiner wordt deste verder je van het midden van het politeke centrum af staat.\n",
    "<br><br>\n",
    "De X-as van dit model laat de afstand van een kandidaad naar het centrum zien.<br>\n",
    "De Y-as laat hier de hoeveelheid stemmen zien die een kandidaat krijg/verliest gemiddeld per pijling."
   ]
  },
  {
   "cell_type": "code",
   "execution_count": null,
   "metadata": {},
   "outputs": [],
   "source": [
    "plt.figure()\n",
    "plt.scatter(data=strategic_runs, x='distance',y='fluctuation')\n",
    "plt.hlines(y=0, xmin = 0.0, xmax = 1.4, color='r')\n",
    "\n",
    "plt.title(\"Verandering van de aantal votes bij een kandidaat per poll\")\n",
    "plt.ylabel(\"toename/afname stemmers bij een kandidaat per poll\")\n",
    "plt.xlabel(\"Afstand van de kandidaat en de midden van de plane\")\n",
    "plt.show()"
   ]
  },
  {
   "cell_type": "markdown",
   "metadata": {},
   "source": [
    "Ons model gebruikt meerdere parameters om te bepalen wanneer een stemmer een strategische stem wilt uitbrengen.\n",
    "<br>\n",
    "Hier is goed te zien dat er soms nog wat uitschieters zijn en er veel stemmers strategisch gaan stemmen, maar veel belangrijker dat de mediaan mooi rond de 10% ligt.\n",
    "<br>\n",
    "Zoals uit bronnen naar voren komt is het uiteidenlijke stemgedrag van mensen 9% strategisch."
   ]
  },
  {
   "cell_type": "code",
   "execution_count": null,
   "metadata": {},
   "outputs": [],
   "source": [
    "strategic_runs[['strat_perc']].describe()"
   ]
  },
  {
   "cell_type": "markdown",
   "metadata": {},
   "source": [
    "De frequentie verdeling van fluctuatie.<br>"
   ]
  },
  {
   "cell_type": "code",
   "execution_count": null,
   "metadata": {},
   "outputs": [],
   "source": [
    "count = strategic_runs.groupby([pd.cut(strategic_runs['distance'],12)])[['fluctuation']].count().reset_index()\n",
    "ax =count[['fluctuation']].plot.bar(stacked=True)\n",
    "ax.set_title(\"Frequentieverdeling van de fluctuatie van de aantal votes\")"
   ]
  },
  {
   "cell_type": "markdown",
   "metadata": {},
   "source": [
    "Hier is een Barplot te zien waar een gemiddelde waarde van de fluctuatie te zien is in verschillende bins.<br>\n",
    "We hebben gekozen voor 12 bins.<br>"
   ]
  },
  {
   "cell_type": "code",
   "execution_count": null,
   "metadata": {},
   "outputs": [],
   "source": [
    "sums = strategic_runs.groupby([pd.cut(strategic_runs['distance'],12)])[['fluctuation']].mean().reset_index()\n",
    "ax = sums.plot.bar(x='distance',y='fluctuation',rot=90)\n",
    "ax.set_title(\"Aantal votes een bepaalde kandidat kan krijgen/verliezen t.o.v de afstand tot de midden van de space \")\n",
    "ax.set_xlabel(\"intervallen van de afstand tot de midden van een kandidaat\")\n",
    "ax.set_ylabel(\"Votes krijgen/verliezen per poll\")"
   ]
  },
  {
   "cell_type": "markdown",
   "metadata": {},
   "source": [
    "Zo is er duidelijk te zien dat een kandidaad die dichter bij het centrum zit over het algemeen meer stemmen krijgt mochten mensen besluiten strategisch te gaans stemmen.<br>\n",
    "Het omkeer punt zit rond de 0.7 afstand."
   ]
  },
  {
   "cell_type": "markdown",
   "metadata": {},
   "source": [
    "# Effect van peilingen op het stemgedrag van stemmers met plurality voting."
   ]
  },
  {
   "cell_type": "markdown",
   "metadata": {},
   "source": [
    "Voor deze onderzoeksvraag gaan we kijken naar de effect van de aantal peilingen in een verkiezing op het stemgedrag van stemmers ten opzichte van de type kandidaat binnen de space met Plurality voting. Voor deze experiment hadden we aanname genomen dat een voting process ongeveer 2 weken zal duren. \n",
    "Om de effect te bepalen van de peilingen op het stemgedrag gaan we verschillende batch runs uitvoeren waar we gaan kijken naar de verkiezingen met de volgende aantal polls:\n",
    "- 1 polls : Er wordt 1 peiling in de verkiezieng gepubliceerd\n",
    "- 2 polls: Er wordt 2 peiling in de verkiezieng gepubliceerd ( on\n",
    "- 6 polls: Er wordt 6 peiling in de verkiezing gepubliceerd( ongeveer 3 poll per week\n",
    "- 14 polls: Er wordt dagelijks een peiling gepubliceerd."
   ]
  },
  {
   "cell_type": "code",
   "execution_count": null,
   "metadata": {},
   "outputs": [],
   "source": [
    "# Load dataframes\n",
    "raw_poll_1 = pickle.load(open(\"generated_files/batch_run_strategic_2_1poll\",\"rb\"))\n",
    "raw_poll_2 = pickle.load(open(\"generated_files/batch_run_strategic_2_2poll\",\"rb\"))\n",
    "poll_6 = strategic_runs\n",
    "# raw_poll_14 = pickle.load(open(\"generated_files/batch_run_strategic_2_14poll\",\"rb\"))"
   ]
  },
  {
   "cell_type": "code",
   "execution_count": null,
   "metadata": {},
   "outputs": [],
   "source": [
    "# Convert dataframes\n",
    "poll_1 = convertRuns(raw_poll_1)\n",
    "poll_1 = addDistance(poll_1)\n",
    "\n",
    "\n",
    "poll_2 = convertRuns(raw_poll_2)\n",
    "poll_2 = addDistance(poll_2)\n",
    "\n",
    "# poll_14 = convertRuns(raw_poll_14)\n",
    "# poll_14 = addDistance(poll_14)"
   ]
  },
  {
   "cell_type": "markdown",
   "metadata": {},
   "source": [
    "Om het effect van peilingen te bekijken op het stemgedrag van de stemmers, gaan we onze kolom distance verdelen in 5 groepen. Hier kunnen we 5 type kandidaat in onze space definieren. De gemiddelde aantal stemmers per bins/type kandidaat\n",
    "wordt bepaald en gevisualiseerd in een bar plot. "
   ]
  },
  {
   "cell_type": "code",
   "execution_count": null,
   "metadata": {},
   "outputs": [],
   "source": [
    "poll_1_mean = poll_1.groupby([pd.cut(poll_1['distance'],12)])[['cand_votes']].mean()\n",
    "poll_1_mean['stdev_cand_votes'] = poll_1.groupby([pd.cut(poll_1['distance'],12)])[['cand_votes']].std()\n",
    "poll_1_mean = poll_1_mean.reset_index()\n",
    "ax= poll_1_mean.plot.bar(x= 'distance',y='cand_votes',rot=90)\n",
    "ax.set_title(\"Gemiddelde votes per type kandidaat bij verkiezingen met 1 peilingen\")"
   ]
  },
  {
   "cell_type": "code",
   "execution_count": null,
   "metadata": {},
   "outputs": [],
   "source": [
    "poll_2_mean = poll_2.groupby([pd.cut(poll_2['distance'],12)])[['cand_votes']].mean()\n",
    "poll_2_mean['stdev_cand_votes'] = poll_2.groupby([pd.cut(poll_2['distance'],12)])[['cand_votes']].std()\n",
    "poll_2_mean = poll_2_mean.reset_index()\n",
    "ax= poll_2_mean.plot.bar(x= 'distance',y='cand_votes',rot=90)\n",
    "ax.set_title(\"Gemiddelde votes per type kandidaat bij verkiezingen met 2 peilingen\")"
   ]
  },
  {
   "cell_type": "code",
   "execution_count": null,
   "metadata": {},
   "outputs": [],
   "source": [
    "poll_6_mean = poll_6.groupby([pd.cut(poll_6['distance'],12)])[['cand_votes']].mean()\n",
    "poll_6_mean['stdev_cand_votes'] = poll_6.groupby([pd.cut(poll_6['distance'],12)])[['cand_votes']].std()\n",
    "poll_6_mean = poll_6_mean.reset_index()\n",
    "ax= poll_6_mean.plot.bar(x= 'distance',y='cand_votes',rot=90)\n",
    "ax.set_title(\"Gemiddelde votes per type kandidaat bij verkiezingen met 6 peilingen\")"
   ]
  },
  {
   "cell_type": "code",
   "execution_count": null,
   "metadata": {},
   "outputs": [],
   "source": [
    "poll_14_mean = poll_14.groupby([pd.cut(poll_14['distance'],5)])[['cand_votes']].mean()\n",
    "poll_14_mean['stdev_cand_votes'] = poll_14.groupby([pd.cut(poll_14['distance'],5)])[['cand_votes']].std()\n",
    "poll_14_mean = poll_14_mean.reset_index()\n",
    "ax= poll_14_mean.plot.bar(x= 'distance',y='cand_votes',rot=90)\n",
    "ax.set_title(\"Gemiddelde votes per type kandidaat bij verkiezingen met 14 peilingen\")"
   ]
  },
  {
   "cell_type": "code",
   "execution_count": null,
   "metadata": {},
   "outputs": [],
   "source": [
    "poll_1_mean['colId'] = 1\n",
    "poll_2_mean['colId'] = 2\n",
    "poll_6_mean['colId'] = 6\n",
    "poll_14_mean['colId'] = 14\n",
    "allPolls = poll_1_mean.append(poll_2_mean)\n",
    "allPolls = allPolls.append(poll_6_mean)\n",
    "allPolls = allPolls.append(poll_14_mean)\n",
    "\n",
    "sns.lineplot(data=allPolls,x=allPolls.index, y=\"cand_votes\", hue=\"colId\")\n",
    "ax2 = plt.twinx()\n",
    "sns.lineplot(data=allPolls, x=allPolls.index, y=allPolls.stdev_cand_votes, ax=ax2)"
   ]
  },
  {
   "cell_type": "markdown",
   "metadata": {},
   "source": [
    "Aan de hand van de barplot en de bovenstaande data kunnen we concluderen dat kandidaten met een *neutrale politieke visie* hebben meer kans om stemmers te krijgen.Bovendien is te zien dat hoe meer peilingen er wordt gepubliceerd, kandidaten krijegen en verliezen meer stemmers gedurende zo'n verkiezing."
   ]
  },
  {
   "cell_type": "markdown",
   "metadata": {},
   "source": [
    "Hoe meer peilingen, hoe meer kans een stemmer heeft om een strategie te gebruiken en zijn keuze veranderen.\n",
    "De aantal peilingen heeft dus een bepaalde invloed op de stemmers, waar ze voor elke poll meer meer open staan om te stemmen voor een kandidaat buiten hun politieke standpunten."
   ]
  }
 ],
 "metadata": {
  "kernelspec": {
   "display_name": "Python 3.8.3 64-bit",
   "language": "python",
   "name": "python38364bit5cdb2531dd3545ea9b3fd1a8a995abfc"
  },
  "language_info": {
   "codemirror_mode": {
    "name": "ipython",
    "version": 3
   },
   "file_extension": ".py",
   "mimetype": "text/x-python",
   "name": "python",
   "nbconvert_exporter": "python",
   "pygments_lexer": "ipython3",
   "version": "3.8.3"
  }
 },
 "nbformat": 4,
 "nbformat_minor": 2
}
