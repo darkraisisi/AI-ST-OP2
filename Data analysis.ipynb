{
 "cells": [
  {
   "cell_type": "code",
   "execution_count": null,
   "metadata": {},
   "outputs": [],
   "source": [
    "from Classes.Person import Person\n",
    "import pickle\n",
    "import numpy as np\n",
    "import math\n",
    "import pandas as pd\n",
    "import seaborn as sns"
   ]
  },
  {
   "cell_type": "code",
   "execution_count": null,
   "metadata": {},
   "outputs": [],
   "source": [
    "# honest = pickle.load(open(\"batch_run_honest_1\",\"rb\"))\n",
    "# strategic = pickle.load(open(\"batch_run_strategic_1\",\"rb\"))\n",
    "test = pickle.load(open(\"batch_run_strategic_test\",\"rb\"))"
   ]
  },
  {
   "cell_type": "code",
   "execution_count": null,
   "metadata": {},
   "outputs": [],
   "source": [
    "test.head()"
   ]
  },
  {
   "cell_type": "code",
   "execution_count": null,
   "metadata": {},
   "outputs": [],
   "source": [
    "def convertRuns(_data):\n",
    "    runs = pd.DataFrame(columns=['run_id', 'cand_unique_id', 'cand_votes', 'cand_position'])\n",
    "    for i, run in _data.iterrows():\n",
    "        for cand in run[1][0]:\n",
    "            runs = runs.append({'run_id':i,'cand_unique_id':cand.unique_id,'cand_votes':run[1][0].get(cand),'cand_position':cand.position},ignore_index=True)\n",
    "    runs['cand_votes'] = runs['cand_votes'].convert_dtypes(int)\n",
    "    return runs"
   ]
  },
  {
   "cell_type": "code",
   "execution_count": null,
   "metadata": {},
   "outputs": [],
   "source": [
    "# honest_runs = convertRuns(honest) \n",
    "# honest_runs.head()"
   ]
  },
  {
   "cell_type": "code",
   "execution_count": null,
   "metadata": {},
   "outputs": [],
   "source": [
    "# strategic_runs = convertRuns(strategic) \n",
    "# strategic_runs.head()"
   ]
  },
  {
   "cell_type": "code",
   "execution_count": null,
   "metadata": {},
   "outputs": [],
   "source": [
    "test_runs = convertRuns(test)\n",
    "test_runs.head()"
   ]
  },
  {
   "cell_type": "code",
   "execution_count": null,
   "metadata": {},
   "outputs": [],
   "source": [
    "def addDistance(df:pd.DataFrame):\n",
    "    df['distance'] = df['cand_position'].apply(lambda x: np.linalg.norm([1.0,1.0] - x))\n",
    "#     df['winperc'] = df['cand_votes'].apply(lambda x: x/1000)\n",
    "    return df\n",
    "        "
   ]
  },
  {
   "cell_type": "code",
   "execution_count": null,
   "metadata": {},
   "outputs": [],
   "source": [
    "# honest_runs = addDistance(honest_runs)\n",
    "# display(honest_runs.sort_values(by=['distance']))\n",
    "# display(honest_runs.sort_values(by=['cand_votes'],ascending=False))\n",
    "\n",
    "# strategic_runs = addDistance(strategic_runs)\n",
    "# display(strategic_runs.sort_values(by=['distance']))\n",
    "# display(strategic_runs.sort_values(by=['cand_votes'],ascending=False))\n",
    "\n",
    "test_runs = addDistance(test_runs)\n",
    "display(test_runs.sort_values(by=['distance']))\n",
    "display(test_runs.sort_values(by=['cand_votes'],ascending=False))"
   ]
  },
  {
   "cell_type": "code",
   "execution_count": null,
   "metadata": {},
   "outputs": [],
   "source": [
    "# display(sns.pairplot(honest_runs[['cand_votes','distance']]))\n",
    "# display(sns.pairplot(strategic_runs[['cand_votes','distance']]))"
   ]
  },
  {
   "cell_type": "code",
   "execution_count": null,
   "metadata": {},
   "outputs": [],
   "source": [
    "# display(honest_runs[['cand_votes']].describe(include='all'))\n",
    "# display(honest_runs[['cand_votes']].plot.box())\n",
    "# display(strategic_runs[['cand_votes']].describe(include='all'))\n",
    "# display(strategic_runs[['cand_votes']].plot.box())\n",
    "display(test_runs[['cand_votes']].plot.box())"
   ]
  },
  {
   "cell_type": "code",
   "execution_count": null,
   "metadata": {},
   "outputs": [],
   "source": [
    "display(test_runs[['distance']].plot.box())"
   ]
  },
  {
   "cell_type": "code",
   "execution_count": null,
   "metadata": {},
   "outputs": [],
   "source": []
  }
 ],
 "metadata": {
  "kernelspec": {
   "display_name": "Python 3.8.3 64-bit",
   "language": "python",
   "name": "python38364bit5cdb2531dd3545ea9b3fd1a8a995abfc"
  },
  "language_info": {
   "codemirror_mode": {
    "name": "ipython",
    "version": 3
   },
   "file_extension": ".py",
   "mimetype": "text/x-python",
   "name": "python",
   "nbconvert_exporter": "python",
   "pygments_lexer": "ipython3",
   "version": "3.8.3"
  }
 },
 "nbformat": 4,
 "nbformat_minor": 2
}
