{
 "cells": [
  {
   "cell_type": "code",
   "execution_count": null,
   "metadata": {},
   "outputs": [],
   "source": [
    "from Classes.Person import Person\n",
    "import pickle\n",
    "import numpy as np\n",
    "import math\n",
    "import pandas as pd\n",
    "import seaborn as sns\n",
    "import matplotlib.pyplot as plt"
   ]
  },
  {
   "cell_type": "code",
   "execution_count": null,
   "metadata": {},
   "outputs": [],
   "source": [
    "honest = pickle.load(open(\"batch_run_honest_1\",\"rb\"))\n",
    "strategic = pickle.load(open(\"batch_run_strategic_1\",\"rb\"))"
   ]
  },
  {
   "cell_type": "code",
   "execution_count": null,
   "metadata": {},
   "outputs": [],
   "source": [
    "def getFluctuations(pollList):\n",
    "    fluctuation = {}\n",
    "    length = len(pollList)\n",
    "    for cand in pollList[0]:\n",
    "        fluctuation.update({cand: 0})\n",
    "                    \n",
    "    for cand in fluctuation:\n",
    "        differences = []\n",
    "        for pollId in range(length-1):\n",
    "            differences.append(pollList[pollId + 1].get(cand) - pollList[pollId].get(cand))\n",
    "        fluctuation.update({cand:(sum(differences) / length)})\n",
    "\n",
    "    return fluctuation"
   ]
  },
  {
   "cell_type": "code",
   "execution_count": null,
   "metadata": {},
   "outputs": [],
   "source": [
    "def convertRuns(_data):\n",
    "    runs = pd.DataFrame(columns=['run_id', 'cand_unique_id', 'cand_votes', 'cand_position', 'strat_perc'])\n",
    "    for i, run in _data.iterrows():\n",
    "        cand_fluctuations = getFluctuations(run.Polls)\n",
    "        for cand in run.Polls[len(run.Polls)-1]:\n",
    "            runs = runs.append({'run_id':i,'cand_unique_id':cand.unique_id,'cand_votes':run[1][0].get(cand),'cand_position':cand.position,'strat_perc': run[3],'fluctuation':cand_fluctuations.get(cand)},ignore_index=True)\n",
    "    runs['cand_votes'] = runs['cand_votes'].convert_dtypes(int)\n",
    "    return runs"
   ]
  },
  {
   "cell_type": "code",
   "execution_count": null,
   "metadata": {},
   "outputs": [],
   "source": [
    "honest_runs = convertRuns(honest)"
   ]
  },
  {
   "cell_type": "code",
   "execution_count": null,
   "metadata": {},
   "outputs": [],
   "source": [
    "strategic_runs = convertRuns(strategic)"
   ]
  },
  {
   "cell_type": "code",
   "execution_count": null,
   "metadata": {},
   "outputs": [],
   "source": [
    "honest, strategic = None, None"
   ]
  },
  {
   "cell_type": "code",
   "execution_count": null,
   "metadata": {},
   "outputs": [],
   "source": [
    "def addDistance(df:pd.DataFrame):\n",
    "    df['distance'] = df['cand_position'].apply(lambda x: np.linalg.norm([1.0,1.0] - x))\n",
    "    return df"
   ]
  },
  {
   "cell_type": "code",
   "execution_count": null,
   "metadata": {},
   "outputs": [],
   "source": [
    "honest_runs = addDistance(honest_runs)\n",
    "display(honest_runs.sort_values(by=['distance']))\n",
    "display(honest_runs.sort_values(by=['cand_votes'],ascending=False))\n",
    "\n",
    "strategic_runs = addDistance(strategic_runs)\n",
    "display(strategic_runs.sort_values(by=['distance']))\n",
    "display(strategic_runs.sort_values(by=['cand_votes'],ascending=False))"
   ]
  },
  {
   "cell_type": "code",
   "execution_count": null,
   "metadata": {},
   "outputs": [],
   "source": [
    "display(sns.pairplot(honest_runs[['cand_votes','distance']]))\n",
    "display(sns.pairplot(strategic_runs[['cand_votes','distance','strat_perc','fluctuation']]))"
   ]
  },
  {
   "cell_type": "code",
   "execution_count": null,
   "metadata": {},
   "outputs": [],
   "source": [
    "# display(honest_runs[['cand_votes']].describe(include='all'))\n",
    "# display(honest_runs[['cand_votes']].plot.box())\n",
    "# display(strategic_runs[['cand_votes']].describe(include='all'))\n",
    "# display(strategic_runs[['cand_votes']].plot.box())"
   ]
  },
  {
   "cell_type": "markdown",
   "metadata": {},
   "source": [
    "# Effect van plurality voting op mensen dat niet op hun eerste voorkeur kiest."
   ]
  },
  {
   "cell_type": "markdown",
   "metadata": {},
   "source": [
    "Hier laten we een scatter plot zien met de gemiddelde fluctuatie in stemmen per pijlingsronden.\n",
    "Wat hier uit te zien is is dat de kans dat je stemmen toe krijgt van strategische stemmers later in het stem proces steeds kleiner wordt deste verder je van het midden van het politeke centrum af staat.\n",
    "<br><br>\n",
    "De X-as van dit model laat de afstand van een kandidaad naar het centrum zien.<br>\n",
    "De Y-as laat hier de hoeveelheid stemmen zien die een kandidaat krijg/verliest gemiddeld per pijling."
   ]
  },
  {
   "cell_type": "code",
   "execution_count": null,
   "metadata": {},
   "outputs": [],
   "source": [
    "plt.figure()\n",
    "plt.scatter(data=strategic_runs, x='distance',y='fluctuation')\n",
    "plt.hlines(y=0, xmin = 0.0, xmax = 1.4, color='r')\n",
    "plt.show()"
   ]
  },
  {
   "cell_type": "markdown",
   "metadata": {},
   "source": [
    "Ons model gebruikt meerdere parameters om te bepalen wanneer een stemmer een strategische stem wilt uitbrengen.\n",
    "<br>\n",
    "Hier is goed te zien dat er soms nog wat uitschieters zijn en er veel stemmers strategisch gaan stemmen, maar veel belangrijker dat de mediaan mooi rond de 10% ligt.\n",
    "<br>\n",
    "Zoals uit bronnen naar voren komt is het uiteidenlijke stemgedrag van mensen 9% strategisch."
   ]
  },
  {
   "cell_type": "code",
   "execution_count": null,
   "metadata": {},
   "outputs": [],
   "source": [
    "strategic_runs[['strat_perc']].describe()"
   ]
  },
  {
   "cell_type": "markdown",
   "metadata": {},
   "source": [
    "De frequentie verdeling van fluctuatie.<br>"
   ]
  },
  {
   "cell_type": "code",
   "execution_count": null,
   "metadata": {},
   "outputs": [],
   "source": [
    "count = strategic_runs.groupby([pd.cut(strategic_runs['distance'],12)])[['fluctuation']].count().reset_index()\n",
    "count[['fluctuation']].plot.bar(stacked=True)"
   ]
  },
  {
   "cell_type": "markdown",
   "metadata": {},
   "source": [
    "Hier is een Barplot te zien waar een gemiddelde waarde van de fluctuatie te zien is in verschillende bins.<br>\n",
    "We hebben gekozen voor 12 bins.<br>\n",
    "Zo is er duidelijk te zien dat een kandidaad die dichter bij het centrum zit over het algemeen meer stemmen krijgt mochten mensen besluiten strategisch te gaans stemmen.<br>\n",
    "Het omkeer punt zit rond de 0.7 afstand."
   ]
  },
  {
   "cell_type": "code",
   "execution_count": null,
   "metadata": {},
   "outputs": [],
   "source": [
    "sums = strategic_runs.groupby([pd.cut(strategic_runs['distance'],12)])[['fluctuation']].mean().reset_index()\n",
    "sums.plot.bar(x='distance',y='fluctuation',rot=90)"
   ]
  },
  {
   "cell_type": "markdown",
   "metadata": {},
   "source": [
    "# Effect van pijlingen op het stemgedrag van stemmers met plurality voting."
   ]
  },
  {
   "cell_type": "code",
   "execution_count": null,
   "metadata": {},
   "outputs": [],
   "source": [
    "raw_poll_1 = pickle.load(open(\"batch_run_strategic_2_1poll\",\"rb\"))\n",
    "raw_poll_2 = pickle.load(open(\"batch_run_strategic_2_2poll\",\"rb\"))\n",
    "poll_6 = strategic_runs\n",
    "raw_poll_14 = pickle.load(open(\"batch_run_strategic_2_14poll\",\"rb\"))"
   ]
  },
  {
   "cell_type": "code",
   "execution_count": null,
   "metadata": {},
   "outputs": [],
   "source": [
    "poll_1 = convertRuns(raw_poll_1)\n",
    "poll_1 = addDistance(poll_1)\n",
    "\n",
    "\n",
    "poll_2 = convertRuns(raw_poll_2)\n",
    "poll_2 = addDistance(poll_2)\n",
    "\n",
    "poll_14 = convertRuns(raw_poll_14)\n",
    "poll_14 = addDistance(poll_14)"
   ]
  },
  {
   "cell_type": "markdown",
   "metadata": {},
   "source": [
    "Om het effect van pijlingen te bekijken op het stemgedrag van ......."
   ]
  },
  {
   "cell_type": "code",
   "execution_count": null,
   "metadata": {},
   "outputs": [],
   "source": [
    "poll_1_mean = poll_1.groupby([pd.cut(poll_1['distance'],5)])[['cand_votes']].mean().reset_index()\n",
    "poll_1_mean.plot.bar(x='distance',y='cand_votes',rot=90)"
   ]
  },
  {
   "cell_type": "code",
   "execution_count": null,
   "metadata": {},
   "outputs": [],
   "source": [
    "poll_2_mean = poll_2.groupby([pd.cut(poll_2['distance'],5)])[['cand_votes']].mean().reset_index()\n",
    "poll_2_mean.plot.bar(x='distance',y='cand_votes',rot=90)"
   ]
  },
  {
   "cell_type": "code",
   "execution_count": null,
   "metadata": {},
   "outputs": [],
   "source": [
    "poll_6_mean = poll_6.groupby([pd.cut(poll_6['distance'],5)])[['cand_votes']].mean().reset_index()\n",
    "poll_6_mean.plot.bar(x='distance',y='cand_votes',rot=90)"
   ]
  },
  {
   "cell_type": "code",
   "execution_count": null,
   "metadata": {},
   "outputs": [],
   "source": []
  }
 ],
 "metadata": {
  "kernelspec": {
   "display_name": "Python 3.8.3 64-bit",
   "language": "python",
   "name": "python38364bit5cdb2531dd3545ea9b3fd1a8a995abfc"
  },
  "language_info": {
   "codemirror_mode": {
    "name": "ipython",
    "version": 3
   },
   "file_extension": ".py",
   "mimetype": "text/x-python",
   "name": "python",
   "nbconvert_exporter": "python",
   "pygments_lexer": "ipython3",
   "version": "3.8.3"
  }
 },
 "nbformat": 4,
 "nbformat_minor": 2
}
